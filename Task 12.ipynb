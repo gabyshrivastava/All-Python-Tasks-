{
 "cells": [
  {
   "cell_type": "markdown",
   "metadata": {},
   "source": [
    "# Task12 : Go through the below in-built functions with 2 examples each.\n",
    "- reduce()\n",
    "- zip()\n",
    "- enumerate()"
   ]
  },
  {
   "cell_type": "markdown",
   "metadata": {},
   "source": [
    "# reduce()"
   ]
  },
  {
   "cell_type": "code",
   "execution_count": 1,
   "metadata": {},
   "outputs": [],
   "source": [
    "#to use reduce we have to import it from functools library \n",
    "#Example 1 find the sum of all doubles of even numbers in the given list "
   ]
  },
  {
   "cell_type": "code",
   "execution_count": 1,
   "metadata": {},
   "outputs": [],
   "source": [
    "from functools import reduce"
   ]
  },
  {
   "cell_type": "code",
   "execution_count": 2,
   "metadata": {},
   "outputs": [
    {
     "name": "stdout",
     "output_type": "stream",
     "text": [
      "[2, 4, 6, 8, 10, 12]\n"
     ]
    }
   ],
   "source": [
    "num = [1,2,3,4,5,6,7,8,9,10,11,12,13]\n",
    "\n",
    "evens = list(filter(lambda n : n%2==0 ,num))\n",
    "\n",
    "print(evens)"
   ]
  },
  {
   "cell_type": "code",
   "execution_count": 3,
   "metadata": {},
   "outputs": [
    {
     "name": "stdout",
     "output_type": "stream",
     "text": [
      "[4, 8, 12, 16, 20, 24]\n"
     ]
    }
   ],
   "source": [
    "doubles_of_evens = list(map(lambda n : n*2 , evens)) \n",
    "\n",
    "print(doubles_of_evens)"
   ]
  },
  {
   "cell_type": "code",
   "execution_count": 7,
   "metadata": {},
   "outputs": [
    {
     "name": "stdout",
     "output_type": "stream",
     "text": [
      "84\n"
     ]
    }
   ],
   "source": [
    "sum_of_all_doubles = reduce(lambda a,b :a+b ,doubles_of_evens)\n",
    "print(sum_of_all_doubles)"
   ]
  },
  {
   "cell_type": "code",
   "execution_count": 8,
   "metadata": {},
   "outputs": [],
   "source": [
    "#Example 2 collect prime numbers in a list from 1 - 20 then multiply all of them together with reduce function"
   ]
  },
  {
   "cell_type": "code",
   "execution_count": 27,
   "metadata": {},
   "outputs": [
    {
     "name": "stdout",
     "output_type": "stream",
     "text": [
      "[1, 2, 3, 4, 5, 6, 7, 8, 9, 10, 11, 12, 13, 14, 15, 16, 17, 18, 19, 20]\n"
     ]
    }
   ],
   "source": [
    "x = range(1,21)\n",
    "x = list(x)\n",
    "print(x)"
   ]
  },
  {
   "cell_type": "code",
   "execution_count": 35,
   "metadata": {},
   "outputs": [],
   "source": [
    "def is_prime(a):\n",
    "    if a<=1 :\n",
    "        return False \n",
    "    for d in range(2,a):\n",
    "        if a%d==0:\n",
    "            return False\n",
    "        return True \n",
    "        "
   ]
  },
  {
   "cell_type": "code",
   "execution_count": 40,
   "metadata": {},
   "outputs": [
    {
     "name": "stdout",
     "output_type": "stream",
     "text": [
      "[3, 5, 7, 9, 11, 13, 15, 17, 19]\n"
     ]
    }
   ],
   "source": [
    "prime = list(filter(is_prime,x))\n",
    "print(prime)"
   ]
  },
  {
   "cell_type": "code",
   "execution_count": 38,
   "metadata": {},
   "outputs": [
    {
     "name": "stdout",
     "output_type": "stream",
     "text": [
      "654729075\n"
     ]
    }
   ],
   "source": [
    "multiplication = reduce(lambda a,b : a*b ,prime)\n",
    "print(multiplication)"
   ]
  },
  {
   "cell_type": "markdown",
   "metadata": {},
   "source": [
    "# ZIP "
   ]
  },
  {
   "cell_type": "code",
   "execution_count": 41,
   "metadata": {},
   "outputs": [],
   "source": [
    "#zip can be used to join data types like a list with a list or a tuple with a tuple "
   ]
  },
  {
   "cell_type": "code",
   "execution_count": 43,
   "metadata": {},
   "outputs": [
    {
     "name": "stdout",
     "output_type": "stream",
     "text": [
      "[('Gaby', 'Music'), ('Shivam', 'Driver'), ('Eddy', 'Gamer')]\n"
     ]
    }
   ],
   "source": [
    "#example 1  join list and print them \n",
    "names = ['Gaby','Shivam','Eddy']\n",
    "work =['Music','Driver','Gamer']\n",
    "zipped = list(zip(names,work))\n",
    "print(zipped)"
   ]
  },
  {
   "cell_type": "code",
   "execution_count": 44,
   "metadata": {},
   "outputs": [
    {
     "name": "stdout",
     "output_type": "stream",
     "text": [
      "[(1, 'Nither even nor odd'), (2, 'even'), (3, 'odd')]\n"
     ]
    }
   ],
   "source": [
    "#example 2  join tuples and print them \n",
    "numbers = (1,2,3)\n",
    "dicsription = (\"Nither even nor odd\",\"even\",\"odd\")\n",
    "zipped = list(zip(numbers,dicsription))\n",
    "print(zipped)"
   ]
  },
  {
   "cell_type": "markdown",
   "metadata": {},
   "source": [
    "# enumerate()"
   ]
  },
  {
   "cell_type": "code",
   "execution_count": 45,
   "metadata": {},
   "outputs": [],
   "source": [
    "#used for tracking the positions or Iterable: any object that supports iteration"
   ]
  },
  {
   "cell_type": "code",
   "execution_count": 48,
   "metadata": {},
   "outputs": [
    {
     "name": "stdout",
     "output_type": "stream",
     "text": [
      "[(0, 'eat'), (1, 'sleep'), (2, 'code'), (3, 'repeat')]\n"
     ]
    }
   ],
   "source": [
    "#example 1 \n",
    "l1 = [\"eat\",\"sleep\",\"code\",\"repeat\"] \n",
    "obj1 = list(enumerate(l1))\n",
    "print(obj1)"
   ]
  },
  {
   "cell_type": "code",
   "execution_count": 49,
   "metadata": {},
   "outputs": [
    {
     "name": "stdout",
     "output_type": "stream",
     "text": [
      "((0, 'apple'), (1, 'banana'), (2, 'cherry'))\n"
     ]
    }
   ],
   "source": [
    "x = ('apple', 'banana', 'cherry')\n",
    "y = tuple(enumerate(x))\n",
    "print(y)"
   ]
  },
  {
   "cell_type": "code",
   "execution_count": null,
   "metadata": {},
   "outputs": [],
   "source": []
  }
 ],
 "metadata": {
  "kernelspec": {
   "display_name": "Python 3",
   "language": "python",
   "name": "python3"
  },
  "language_info": {
   "codemirror_mode": {
    "name": "ipython",
    "version": 3
   },
   "file_extension": ".py",
   "mimetype": "text/x-python",
   "name": "python",
   "nbconvert_exporter": "python",
   "pygments_lexer": "ipython3",
   "version": "3.8.3"
  }
 },
 "nbformat": 4,
 "nbformat_minor": 4
}
