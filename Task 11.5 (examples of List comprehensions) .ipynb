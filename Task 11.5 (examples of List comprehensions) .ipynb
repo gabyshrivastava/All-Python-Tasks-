{
 "cells": [
  {
   "cell_type": "markdown",
   "metadata": {},
   "source": [
    "# More examples of List Comprehensions"
   ]
  },
  {
   "cell_type": "markdown",
   "metadata": {},
   "source": [
    "## List of squares "
   ]
  },
  {
   "cell_type": "code",
   "execution_count": 4,
   "metadata": {},
   "outputs": [
    {
     "name": "stdout",
     "output_type": "stream",
     "text": [
      "[1, 4, 9, 16, 25, 36, 49, 64, 81, 100]\n"
     ]
    }
   ],
   "source": [
    "#(normal method)\n",
    "squares = []\n",
    "for i in range(1,11):\n",
    "    squares.append(i**2)\n",
    "print(squares)   "
   ]
  },
  {
   "cell_type": "code",
   "execution_count": 5,
   "metadata": {},
   "outputs": [
    {
     "name": "stdout",
     "output_type": "stream",
     "text": [
      "[1, 4, 9, 16, 25, 36, 49, 64, 81, 100]\n"
     ]
    }
   ],
   "source": [
    "#with List comprehensions\n",
    "squares2 = [i**2 for i in range (1,11)]\n",
    "print(squares2)"
   ]
  },
  {
   "cell_type": "markdown",
   "metadata": {},
   "source": [
    "## List names start with 'S' in a given list l1 "
   ]
  },
  {
   "cell_type": "code",
   "execution_count": 10,
   "metadata": {},
   "outputs": [
    {
     "name": "stdout",
     "output_type": "stream",
     "text": [
      "['Suzanne Marissa King', 'Swartzendruber', 'Samita Thapa']\n"
     ]
    }
   ],
   "source": [
    "l1 = ['Jackson','Quinn D. Brenneke','Suzanne Marissa King','Hannah Lake-Rayburn','Swartzendruber','Ruth Mary Wiens',\n",
    "      'Samita Thapa']\n",
    "#normal method \n",
    "Slist = []\n",
    "for title in l1:\n",
    "    if title.startswith('S'):\n",
    "        Slist.append(title)\n",
    "        \n",
    "print (Slist)        "
   ]
  },
  {
   "cell_type": "code",
   "execution_count": 14,
   "metadata": {},
   "outputs": [
    {
     "name": "stdout",
     "output_type": "stream",
     "text": [
      "['Suzanne Marissa King', 'Swartzendruber', 'Samita Thapa']\n"
     ]
    }
   ],
   "source": [
    "#with list comprehension \n",
    "Slist2 = [title for title in l1 if title.startswith('S')]\n",
    "print(Slist2)"
   ]
  },
  {
   "cell_type": "code",
   "execution_count": null,
   "metadata": {},
   "outputs": [],
   "source": []
  }
 ],
 "metadata": {
  "kernelspec": {
   "display_name": "Python 3",
   "language": "python",
   "name": "python3"
  },
  "language_info": {
   "codemirror_mode": {
    "name": "ipython",
    "version": 3
   },
   "file_extension": ".py",
   "mimetype": "text/x-python",
   "name": "python",
   "nbconvert_exporter": "python",
   "pygments_lexer": "ipython3",
   "version": "3.8.3"
  }
 },
 "nbformat": 4,
 "nbformat_minor": 4
}
