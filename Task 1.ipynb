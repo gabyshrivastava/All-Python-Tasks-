{
 "cells": [
  {
   "cell_type": "markdown",
   "metadata": {},
   "source": [
    "# Python Built-in Functions "
   ]
  },
  {
   "cell_type": "code",
   "execution_count": 1,
   "metadata": {},
   "outputs": [
    {
     "data": {
      "text/plain": [
       "7.5"
      ]
     },
     "execution_count": 1,
     "metadata": {},
     "output_type": "execute_result"
    }
   ],
   "source": [
    "\n",
    "# 1 absolute function The abs() function returns the absolute value of the specified number.\n",
    "# syntax abs()\n",
    "\n",
    "abs(-7.5)\n"
   ]
  },
  {
   "cell_type": "code",
   "execution_count": 2,
   "metadata": {},
   "outputs": [
    {
     "data": {
      "text/plain": [
       "'0b11'"
      ]
     },
     "execution_count": 2,
     "metadata": {},
     "output_type": "execute_result"
    }
   ],
   "source": [
    "# 2 bin funcion Convert an integer number to a binary string prefixed with “0b”.\n",
    "# syntax bin()\n",
    "\n",
    "bin(3)\n"
   ]
  },
  {
   "cell_type": "code",
   "execution_count": 3,
   "metadata": {},
   "outputs": [
    {
     "data": {
      "text/plain": [
       "'a'"
      ]
     },
     "execution_count": 3,
     "metadata": {},
     "output_type": "execute_result"
    }
   ],
   "source": [
    "# 3 chr function Return the string representing a character whose Unicode code point is the integer i, within a valid range  \n",
    "# syntax chr()\n",
    "\n",
    "chr(97)\n",
    "\n"
   ]
  },
  {
   "cell_type": "code",
   "execution_count": 4,
   "metadata": {},
   "outputs": [
    {
     "data": {
      "text/plain": [
       "9.38"
      ]
     },
     "execution_count": 4,
     "metadata": {},
     "output_type": "execute_result"
    }
   ],
   "source": [
    "# 4 round function Return number rounded to ndigits precision after the decimal point.\n",
    "# syntax round()\n",
    "\n",
    "round(9.378629374 , 2)"
   ]
  },
  {
   "cell_type": "code",
   "execution_count": 5,
   "metadata": {},
   "outputs": [
    {
     "name": "stdout",
     "output_type": "stream",
     "text": [
      "2\n",
      "84\n"
     ]
    }
   ],
   "source": [
    "\n",
    "# 5 min return the smallest  , max return the largest \n",
    "#syntax min() max()\n",
    "\n",
    "numbers = [3,65,5,8,9,10,2,84]\n",
    "print(min(numbers))\n",
    "print(max(numbers))\n"
   ]
  },
  {
   "cell_type": "code",
   "execution_count": 6,
   "metadata": {},
   "outputs": [
    {
     "name": "stdout",
     "output_type": "stream",
     "text": [
      "Help on method raw_input in module ipykernel.kernelbase:\n",
      "\n",
      "raw_input(prompt='') method of ipykernel.ipkernel.IPythonKernel instance\n",
      "    Forward raw_input to frontends\n",
      "    \n",
      "    Raises\n",
      "    ------\n",
      "    StdinNotImplentedError if active frontend doesn't support stdin.\n",
      "\n"
     ]
    }
   ],
   "source": [
    "# 6 help funtion Invoke the built-in help system and a help page is printed on the console.\n",
    "# syntax help()\n",
    "\n",
    "help(input)\n"
   ]
  },
  {
   "cell_type": "code",
   "execution_count": 7,
   "metadata": {},
   "outputs": [
    {
     "name": "stdout",
     "output_type": "stream",
     "text": [
      "[('Ram', 'Dell'), ('Sham', 'HP'), ('Vinod', 'intel')]\n"
     ]
    }
   ],
   "source": [
    "\n",
    "# 7 zip Make an iterator that aggregates elements from each of the iterables.\n",
    "# syntax zip()\n",
    "names = (\"Ram\",\"Sham\", \"Vinod\")\n",
    "companies = (\"Dell\", \"HP\" , \"intel\")\n",
    "zipped = list(zip(names,companies))\n",
    "print(zipped)\n"
   ]
  },
  {
   "cell_type": "code",
   "execution_count": 8,
   "metadata": {},
   "outputs": [
    {
     "data": {
      "text/plain": [
       "[2, 3, 3, 4, 5, 5, 7, 9, 10, 12, 12, 13]"
      ]
     },
     "execution_count": 8,
     "metadata": {},
     "output_type": "execute_result"
    }
   ],
   "source": [
    "\n",
    "#8 sorted funtion Return a new sorted list from the items in iterable.\n",
    "# syntax sorted()\n",
    "\n",
    "list1 = [3,5,7,2,3,4,5,9,13,12,10,12]\n",
    "sorted(list1)\n",
    "\n"
   ]
  },
  {
   "cell_type": "code",
   "execution_count": 9,
   "metadata": {},
   "outputs": [
    {
     "data": {
      "text/plain": [
       "18"
      ]
     },
     "execution_count": 9,
     "metadata": {},
     "output_type": "execute_result"
    }
   ],
   "source": [
    "# 9 sum It sums a list. The list can have all types of numeric values\n",
    "# syntax sum()\n",
    "\n",
    "list2 = [3,5,2,8]\n",
    "sum(list2)\n"
   ]
  },
  {
   "cell_type": "code",
   "execution_count": 10,
   "metadata": {},
   "outputs": [
    {
     "data": {
      "text/plain": [
       "True"
      ]
     },
     "execution_count": 10,
     "metadata": {},
     "output_type": "execute_result"
    }
   ],
   "source": [
    "# 10 isinstance The isinstance(object, classinfo) function returns True if the object argument is an instance of \n",
    "#   the classinfo argument\n",
    "# syntax isinstance()\n",
    "numbers = [1, 2, 3, 4, 5]\n",
    "\n",
    "isinstance(numbers, list)   \n"
   ]
  },
  {
   "cell_type": "code",
   "execution_count": null,
   "metadata": {},
   "outputs": [],
   "source": []
  }
 ],
 "metadata": {
  "kernelspec": {
   "display_name": "Python 3",
   "language": "python",
   "name": "python3"
  },
  "language_info": {
   "codemirror_mode": {
    "name": "ipython",
    "version": 3
   },
   "file_extension": ".py",
   "mimetype": "text/x-python",
   "name": "python",
   "nbconvert_exporter": "python",
   "pygments_lexer": "ipython3",
   "version": "3.8.3"
  }
 },
 "nbformat": 4,
 "nbformat_minor": 4
}
