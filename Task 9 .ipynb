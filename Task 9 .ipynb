{
 "cells": [
  {
   "cell_type": "markdown",
   "metadata": {},
   "source": [
    "Task9\n",
    "* Ask 2 numbers from users and store it in num1 and num2\n",
    "- Ask user to press 1 for addition,2 for subtraction,3 for multiplication and 4 for division\n",
    "- based on number given by user do the math operation"
   ]
  },
  {
   "cell_type": "code",
   "execution_count": 4,
   "metadata": {
    "scrolled": true
   },
   "outputs": [
    {
     "name": "stdout",
     "output_type": "stream",
     "text": [
      "Enter first number: 4\n",
      "Enter second number: 5\n",
      "press 1 for addition,2 for subtraction,3 for multiplication and 4 for division: 2 \n",
      "You have entered:  2\n",
      "subtraction is -1\n"
     ]
    }
   ],
   "source": [
    "num1 = int(input('Enter first number: '))\n",
    "num2 = int(input('Enter second number: '))\n",
    "a = int(input('press 1 for addition,2 for subtraction,3 for multiplication and 4 for division: '))\n",
    "\n",
    "print ('You have entered:', a )\n",
    "\n",
    "if a==1:\n",
    "    print('addition of both number is' , num1+num2 )\n",
    "if a==2:\n",
    "    print('subtraction is' , num1-num2 )\n",
    "if a==3:\n",
    "    print('multiplication of both number is' , num1*num2 )\n",
    "if a==4:\n",
    "    print('division is' , num1*num2 )\n"
   ]
  },
  {
   "cell_type": "code",
   "execution_count": null,
   "metadata": {},
   "outputs": [],
   "source": []
  }
 ],
 "metadata": {
  "kernelspec": {
   "display_name": "Python 3",
   "language": "python",
   "name": "python3"
  },
  "language_info": {
   "codemirror_mode": {
    "name": "ipython",
    "version": 3
   },
   "file_extension": ".py",
   "mimetype": "text/x-python",
   "name": "python",
   "nbconvert_exporter": "python",
   "pygments_lexer": "ipython3",
   "version": "3.8.3"
  }
 },
 "nbformat": 4,
 "nbformat_minor": 4
}
