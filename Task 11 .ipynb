{
 "cells": [
  {
   "cell_type": "markdown",
   "metadata": {},
   "source": [
    "# Task11\n",
    "- Ask 2 numbers from users and store it in num1 and num2\n",
    "- Ask user to press 1 for addition,2 for subtraction,3 for multiplication and 4 for division\n",
    "- create 4 seperate functions for each operation (i.e. addition,subtraction,multiplication and division)\n",
    "- based on number given by user,call that perticular function and print the output"
   ]
  },
  {
   "cell_type": "code",
   "execution_count": 10,
   "metadata": {},
   "outputs": [
    {
     "name": "stdout",
     "output_type": "stream",
     "text": [
      "Enter first number: 2\n",
      "Enter second number: 2\n",
      "press 1 for addition,2 for subtraction,3 for multiplication and 4 for division: 3\n",
      "multiplication is : 4\n"
     ]
    }
   ],
   "source": [
    "num1 = int(input('Enter first number: '))\n",
    "num2 = int(input('Enter second number: '))\n",
    "call = int(input('press 1 for addition,2 for subtraction,3 for multiplication and 4 for division: '))\n",
    "\n",
    "\n",
    "def addition(num1,num2):\n",
    "    z = num1 + num2\n",
    "    print('Addition od both number is :',z)\n",
    "def substraction(num1,num2):\n",
    "    z = num1 - num2\n",
    "    print('Substraction is :',z) \n",
    "        \n",
    "def multiplication(num1,num2):\n",
    "    z = num1 * num2\n",
    "    print('multiplication is :' ,z)\n",
    "def division(num1,num2):\n",
    "    z = num1 / num2\n",
    "    print('Division is: ',z) \n",
    "        \n",
    "if call == 1:\n",
    "    addition(num1,num2)\n",
    "\n",
    "if call == 2:\n",
    "    substraction(num1,num2)\n",
    "    \n",
    "if call == 3:\n",
    "    multiplication(num1,num2)\n",
    "    \n",
    "if call == 4:\n",
    "    division(num1,num2)\n",
    "    \n"
   ]
  },
  {
   "cell_type": "code",
   "execution_count": null,
   "metadata": {},
   "outputs": [],
   "source": []
  }
 ],
 "metadata": {
  "kernelspec": {
   "display_name": "Python 3",
   "language": "python",
   "name": "python3"
  },
  "language_info": {
   "codemirror_mode": {
    "name": "ipython",
    "version": 3
   },
   "file_extension": ".py",
   "mimetype": "text/x-python",
   "name": "python",
   "nbconvert_exporter": "python",
   "pygments_lexer": "ipython3",
   "version": "3.8.3"
  }
 },
 "nbformat": 4,
 "nbformat_minor": 4
}
